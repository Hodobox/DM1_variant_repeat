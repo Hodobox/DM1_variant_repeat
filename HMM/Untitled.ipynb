{
 "cells": [
  {
   "cell_type": "code",
   "execution_count": 6,
   "metadata": {},
   "outputs": [
    {
     "name": "stdout",
     "output_type": "stream",
     "text": [
      "defaultdict(<class 'list'>, {'CTG': [(717, 0.41841004184100417), (489, 0.16155419222903886), (30, 0.13333333333333333), (210, 0.07142857142857142), (411, 0.12408759124087591), (102, 0.11764705882352941), (732, 0.366120218579235), (135, 0.06666666666666667), (450, 0.36444444444444446), (69, 0.37681159420289856), (606, 0.38283828382838286), (303, 0.09900990099009901), (504, 0.09523809523809523), (33, 0.09090909090909091), (321, 0.06542056074766354), (21, 0.14285714285714285), (711, 0.41631504922644164), (537, 0.1378026070763501), (135, 0.14074074074074075)], 'CCGCTG': [(84, 0.10714285714285714), (864, 0.019675925925925927), (756, 0.02513227513227513), (834, 0.017985611510791366), (132, 0.4166666666666667), (78, 0.10256410256410256), (216, 0.041666666666666664), (300, 0.05)]})\n"
     ]
    }
   ],
   "source": [
    "from collections import defaultdict\n",
    "\n",
    "with open('outputs/PHRED_adjusted/instability_scores.txt','r') as scores:\n",
    "    lines = [ line.strip() for line in scores.readlines() ]\n",
    "\n",
    "brother_used = False\n",
    "    \n",
    "idx = 0\n",
    "points = defaultdict(list)\n",
    "while idx < len(lines):\n",
    "    name,repeats = lines[idx].split()\n",
    "    repeats = int(repeats)\n",
    "    idx += 1\n",
    "    for i in range(repeats):\n",
    "        scoring = lines[idx].split()\n",
    "        idx += 1\n",
    "        variant = scoring[2][:-1]\n",
    "        progenitor_length = int(scoring[3].split('-')[0])\n",
    "        progenitor_length *= len(variant)\n",
    "\n",
    "        instability = int(scoring[4])\n",
    "        \n",
    "        if variant == 'CCGCTG' and progenitor_length > 700:\n",
    "            if brother_used:\n",
    "                pass#continue\n",
    "            else:\n",
    "                brother_used = True\n",
    "        \n",
    "        if progenitor_length > 0:\n",
    "            instability = instability / progenitor_length\n",
    "            points[variant].append((progenitor_length,instability))\n",
    "\n",
    "print(points)"
   ]
  },
  {
   "cell_type": "code",
   "execution_count": 7,
   "metadata": {},
   "outputs": [],
   "source": [
    "CTG = [ x[1] for x in points['CTG'] ]\n",
    "CCGCTG = [ x[1] for x in points['CCGCTG'] ]"
   ]
  },
  {
   "cell_type": "code",
   "execution_count": 8,
   "metadata": {},
   "outputs": [
    {
     "data": {
      "text/plain": [
       "[0.41841004184100417,\n",
       " 0.16155419222903886,\n",
       " 0.13333333333333333,\n",
       " 0.07142857142857142,\n",
       " 0.12408759124087591,\n",
       " 0.11764705882352941,\n",
       " 0.366120218579235,\n",
       " 0.06666666666666667,\n",
       " 0.36444444444444446,\n",
       " 0.37681159420289856,\n",
       " 0.38283828382838286,\n",
       " 0.09900990099009901,\n",
       " 0.09523809523809523,\n",
       " 0.09090909090909091,\n",
       " 0.06542056074766354,\n",
       " 0.14285714285714285,\n",
       " 0.41631504922644164,\n",
       " 0.1378026070763501,\n",
       " 0.14074074074074075]"
      ]
     },
     "execution_count": 8,
     "metadata": {},
     "output_type": "execute_result"
    }
   ],
   "source": [
    "CTG"
   ]
  },
  {
   "cell_type": "code",
   "execution_count": 9,
   "metadata": {},
   "outputs": [
    {
     "data": {
      "text/plain": [
       "[0.10714285714285714,\n",
       " 0.019675925925925927,\n",
       " 0.02513227513227513,\n",
       " 0.017985611510791366,\n",
       " 0.4166666666666667,\n",
       " 0.10256410256410256,\n",
       " 0.041666666666666664,\n",
       " 0.05]"
      ]
     },
     "execution_count": 9,
     "metadata": {},
     "output_type": "execute_result"
    }
   ],
   "source": [
    "CCGCTG"
   ]
  },
  {
   "cell_type": "code",
   "execution_count": 10,
   "metadata": {},
   "outputs": [
    {
     "data": {
      "text/plain": [
       "Ttest_indResult(statistic=1.7778240646069523, pvalue=0.08760050920662567)"
      ]
     },
     "execution_count": 10,
     "metadata": {},
     "output_type": "execute_result"
    }
   ],
   "source": [
    "from scipy import stats\n",
    "\n",
    "stats.ttest_ind(CTG, CCGCTG)"
   ]
  },
  {
   "cell_type": "code",
   "execution_count": 11,
   "metadata": {},
   "outputs": [
    {
     "name": "stdout",
     "output_type": "stream",
     "text": [
      "defaultdict(<class 'list'>, {0: [(717, 0.41841004184100417), (489, 0.16155419222903886), (210, 0.07142857142857142), (102, 0.11764705882352941), (135, 0.06666666666666667), (450, 0.36444444444444446), (504, 0.09523809523809523), (321, 0.06542056074766354), (537, 0.1378026070763501)], 1: [(84, 0.10714285714285714), (864, 0.019675925925925927), (756, 0.02513227513227513), (834, 0.017985611510791366), (132, 0.4166666666666667), (78, 0.10256410256410256), (216, 0.041666666666666664), (300, 0.05)], 2: [(30, 0.13333333333333333), (69, 0.37681159420289856), (33, 0.09090909090909091), (21, 0.14285714285714285), (135, 0.14074074074074075)]})\n"
     ]
    }
   ],
   "source": [
    "from collections import defaultdict\n",
    "\n",
    "with open('outputs/PHRED_adjusted/instability_scores.txt','r') as scores:\n",
    "    lines = [ line.strip() for line in scores.readlines() ]\n",
    "\n",
    "brother_used = False\n",
    "    \n",
    "idx = 0\n",
    "points = defaultdict(list)\n",
    "while idx < len(lines):\n",
    "    name,repeats = lines[idx].split()\n",
    "    repeats = int(repeats)\n",
    "    idx += 1\n",
    "    for i in range(repeats):\n",
    "        scoring = lines[idx].split()\n",
    "        idx += 1\n",
    "        variant = scoring[2][:-1]\n",
    "        progenitor_length = int(scoring[3].split('-')[0])\n",
    "        progenitor_length *= len(variant)\n",
    "\n",
    "        instability = int(scoring[4])\n",
    "        \n",
    "        if variant == 'CCGCTG' and progenitor_length > 700:\n",
    "            if brother_used:\n",
    "                pass#continue\n",
    "            else:\n",
    "                brother_used = True\n",
    "        \n",
    "        if progenitor_length > 0:\n",
    "            instability = instability / progenitor_length\n",
    "            if repeats == 3:\n",
    "                points[i].append((progenitor_length,instability))\n",
    "\n",
    "print(points)"
   ]
  },
  {
   "cell_type": "code",
   "execution_count": 12,
   "metadata": {},
   "outputs": [],
   "source": [
    "CTG5 = [ x[1] for x in points[0] ]\n",
    "CTG3 = [ x[1] for x in points[2] ]"
   ]
  },
  {
   "cell_type": "code",
   "execution_count": 13,
   "metadata": {},
   "outputs": [
    {
     "data": {
      "text/plain": [
       "[0.41841004184100417,\n",
       " 0.16155419222903886,\n",
       " 0.07142857142857142,\n",
       " 0.11764705882352941,\n",
       " 0.06666666666666667,\n",
       " 0.36444444444444446,\n",
       " 0.09523809523809523,\n",
       " 0.06542056074766354,\n",
       " 0.1378026070763501]"
      ]
     },
     "execution_count": 13,
     "metadata": {},
     "output_type": "execute_result"
    }
   ],
   "source": [
    "CTG5"
   ]
  },
  {
   "cell_type": "code",
   "execution_count": 14,
   "metadata": {},
   "outputs": [
    {
     "data": {
      "text/plain": [
       "[0.13333333333333333,\n",
       " 0.37681159420289856,\n",
       " 0.09090909090909091,\n",
       " 0.14285714285714285,\n",
       " 0.14074074074074075]"
      ]
     },
     "execution_count": 14,
     "metadata": {},
     "output_type": "execute_result"
    }
   ],
   "source": [
    "CTG3"
   ]
  },
  {
   "cell_type": "code",
   "execution_count": 15,
   "metadata": {},
   "outputs": [
    {
     "data": {
      "text/plain": [
       "Ttest_indResult(statistic=0.14769868435637826, pvalue=0.88503323946496)"
      ]
     },
     "execution_count": 15,
     "metadata": {},
     "output_type": "execute_result"
    }
   ],
   "source": [
    "stats.ttest_ind(CTG3, CTG5)"
   ]
  },
  {
   "cell_type": "code",
   "execution_count": 1,
   "metadata": {},
   "outputs": [
    {
     "name": "stdout",
     "output_type": "stream",
     "text": [
      "defaultdict(<class 'list'>, {0: [(717, 0.41841004184100417), (489, 0.16155419222903886), (30, 0.13333333333333333), (210, 0.07142857142857142), (102, 0.11764705882352941), (135, 0.06666666666666667), (450, 0.36444444444444446), (69, 0.37681159420289856), (504, 0.09523809523809523), (33, 0.09090909090909091), (321, 0.06542056074766354), (21, 0.14285714285714285), (537, 0.1378026070763501), (135, 0.14074074074074075)], 1: [(411, 0.12408759124087591), (732, 0.366120218579235), (606, 0.38283828382838286), (303, 0.09900990099009901), (711, 0.41631504922644164)]})\n"
     ]
    }
   ],
   "source": [
    "from collections import defaultdict\n",
    "\n",
    "with open('outputs/PHRED_adjusted/instability_scores.txt','r') as scores:\n",
    "    lines = [ line.strip() for line in scores.readlines() ]\n",
    "\n",
    "brother_used = False\n",
    "    \n",
    "idx = 0\n",
    "points = defaultdict(list)\n",
    "while idx < len(lines):\n",
    "    name,repeats = lines[idx].split()\n",
    "    repeats = int(repeats)\n",
    "    idx += 1\n",
    "    for i in range(repeats):\n",
    "        scoring = lines[idx].split()\n",
    "        idx += 1\n",
    "        variant = scoring[2][:-1]\n",
    "        progenitor_length = int(scoring[3].split('-')[0])\n",
    "        progenitor_length *= len(variant)\n",
    "\n",
    "        instability = int(scoring[4])\n",
    "        \n",
    "        \n",
    "        \n",
    "        if progenitor_length > 0:\n",
    "            instability = instability / progenitor_length\n",
    "            if repeats == 3 and variant == 'CTG':\n",
    "                points[0].append((progenitor_length,instability))\n",
    "            elif repeats == 1:\n",
    "                points[1].append((progenitor_length,instability))\n",
    "\n",
    "print(points)"
   ]
  },
  {
   "cell_type": "code",
   "execution_count": 2,
   "metadata": {},
   "outputs": [],
   "source": [
    "CTGVariant = [ x[1] for x in points[0] ]\n",
    "CTGDefault = [ x[1] for x in points[1] ]"
   ]
  },
  {
   "cell_type": "code",
   "execution_count": 3,
   "metadata": {},
   "outputs": [
    {
     "data": {
      "text/plain": [
       "[0.41841004184100417,\n",
       " 0.16155419222903886,\n",
       " 0.13333333333333333,\n",
       " 0.07142857142857142,\n",
       " 0.11764705882352941,\n",
       " 0.06666666666666667,\n",
       " 0.36444444444444446,\n",
       " 0.37681159420289856,\n",
       " 0.09523809523809523,\n",
       " 0.09090909090909091,\n",
       " 0.06542056074766354,\n",
       " 0.14285714285714285,\n",
       " 0.1378026070763501,\n",
       " 0.14074074074074075]"
      ]
     },
     "execution_count": 3,
     "metadata": {},
     "output_type": "execute_result"
    }
   ],
   "source": [
    "CTGVariant"
   ]
  },
  {
   "cell_type": "code",
   "execution_count": 4,
   "metadata": {},
   "outputs": [
    {
     "data": {
      "text/plain": [
       "[0.12408759124087591,\n",
       " 0.366120218579235,\n",
       " 0.38283828382838286,\n",
       " 0.09900990099009901,\n",
       " 0.41631504922644164]"
      ]
     },
     "execution_count": 4,
     "metadata": {},
     "output_type": "execute_result"
    }
   ],
   "source": [
    "CTGDefault"
   ]
  },
  {
   "cell_type": "code",
   "execution_count": 8,
   "metadata": {
    "scrolled": true
   },
   "outputs": [
    {
     "data": {
      "text/plain": [
       "Ttest_indResult(statistic=1.5903368009682315, pvalue=0.13018210437588415)"
      ]
     },
     "execution_count": 8,
     "metadata": {},
     "output_type": "execute_result"
    }
   ],
   "source": [
    "from scipy import stats\n",
    "stats.ttest_ind(CTGDefault, CTGVariant)"
   ]
  },
  {
   "cell_type": "code",
   "execution_count": null,
   "metadata": {},
   "outputs": [],
   "source": []
  },
  {
   "cell_type": "code",
   "execution_count": null,
   "metadata": {},
   "outputs": [],
   "source": []
  },
  {
   "cell_type": "code",
   "execution_count": null,
   "metadata": {},
   "outputs": [],
   "source": []
  }
 ],
 "metadata": {
  "kernelspec": {
   "display_name": "Python 3",
   "language": "python",
   "name": "python3"
  },
  "language_info": {
   "codemirror_mode": {
    "name": "ipython",
    "version": 3
   },
   "file_extension": ".py",
   "mimetype": "text/x-python",
   "name": "python",
   "nbconvert_exporter": "python",
   "pygments_lexer": "ipython3",
   "version": "3.6.8"
  }
 },
 "nbformat": 4,
 "nbformat_minor": 2
}
